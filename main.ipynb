{
 "cells": [
  {
   "cell_type": "code",
   "execution_count": 2,
   "metadata": {
    "ExecuteTime": {
     "end_time": "2024-01-10T12:57:10.350909865Z",
     "start_time": "2024-01-10T12:57:10.342152642Z"
    }
   },
   "outputs": [
    {
     "ename": "ModuleNotFoundError",
     "evalue": "No module named 'chess'",
     "output_type": "error",
     "traceback": [
      "\u001B[0;31m---------------------------------------------------------------------------\u001B[0m",
      "\u001B[0;31mModuleNotFoundError\u001B[0m                       Traceback (most recent call last)",
      "Cell \u001B[0;32mIn[2], line 1\u001B[0m\n\u001B[0;32m----> 1\u001B[0m \u001B[38;5;28;01mimport\u001B[39;00m \u001B[38;5;21;01mchess\u001B[39;00m\n\u001B[1;32m      2\u001B[0m \u001B[38;5;28;01mimport\u001B[39;00m \u001B[38;5;21;01mchess\u001B[39;00m\u001B[38;5;21;01m.\u001B[39;00m\u001B[38;5;21;01msvg\u001B[39;00m\n\u001B[1;32m      3\u001B[0m \u001B[38;5;28;01mimport\u001B[39;00m \u001B[38;5;21;01mchess\u001B[39;00m\u001B[38;5;21;01m.\u001B[39;00m\u001B[38;5;21;01mpgn\u001B[39;00m\n",
      "\u001B[0;31mModuleNotFoundError\u001B[0m: No module named 'chess'"
     ]
    }
   ],
   "source": [
    "import chess\n",
    "import chess.svg\n",
    "import chess.pgn\n",
    "from IPython.display import display, SVG, clear_output\n",
    "import numpy as np\n",
    "import torch\n",
    "import torch.nn as nn\n",
    "import torch.nn.functional as F\n",
    "from torch.utils.data import Dataset, DataLoader\n",
    "import torch.optim as optim\n",
    "import math\n",
    "from tqdm import trange, tqdm\n",
    "import os\n",
    "import tarfile"
   ]
  },
  {
   "cell_type": "markdown",
   "metadata": {},
   "source": [
    "## Check if cuda is available"
   ]
  },
  {
   "cell_type": "code",
   "execution_count": 2,
   "metadata": {
    "ExecuteTime": {
     "end_time": "2023-08-10T11:36:12.188532100Z",
     "start_time": "2023-08-10T11:36:12.184084200Z"
    }
   },
   "outputs": [
    {
     "data": {
      "text/plain": [
       "'cuda'"
      ]
     },
     "execution_count": 2,
     "metadata": {},
     "output_type": "execute_result"
    }
   ],
   "source": [
    "device = \"cuda\" if torch.cuda.is_available() else \"cpu\"\n",
    "device"
   ]
  },
  {
   "cell_type": "markdown",
   "metadata": {},
   "source": [
    "## Display board"
   ]
  },
  {
   "cell_type": "code",
   "execution_count": 3,
   "metadata": {
    "ExecuteTime": {
     "end_time": "2023-08-10T11:36:12.195798300Z",
     "start_time": "2023-08-10T11:36:12.192969300Z"
    },
    "collapsed": false
   },
   "outputs": [],
   "source": [
    "def display_board(board, size=400):\n",
    "    clear_output(wait=True)\n",
    "    display(SVG(chess.svg.board(board=board, size=size)))"
   ]
  },
  {
   "cell_type": "code",
   "execution_count": 4,
   "metadata": {
    "ExecuteTime": {
     "end_time": "2023-08-10T11:36:12.200497400Z",
     "start_time": "2023-08-10T11:36:12.197803700Z"
    }
   },
   "outputs": [],
   "source": [
    "def encode(board):\n",
    "    channels = 18\n",
    "    input_tensor = np.zeros((channels, 8, 8), dtype=np.float32)\n",
    "    piece_to_token = {'P': 0, 'N': 1, 'B': 2, 'R': 3, 'Q': 4, 'K': 5, 'p': 6, 'n': 7, 'b': 8, 'r': 9, 'q': 10, 'k': 11}\n",
    "    for rank in range(8):\n",
    "        for file in range(8):\n",
    "            index = chess.square(file, rank)\n",
    "            piece = board.piece_at(index)\n",
    "            if piece:\n",
    "                token = piece_to_token[piece.symbol()]\n",
    "                input_tensor[token, rank, file] = 1\n",
    "    input_tensor[12, :, :] = int(board.turn)\n",
    "    castling_rights = board.castling_rights\n",
    "    if castling_rights & chess.BB_H1:\n",
    "        input_tensor[13, 0, 0] = 1\n",
    "    if castling_rights & chess.BB_A1:\n",
    "        input_tensor[13, 0, 7] = 1\n",
    "    if castling_rights & chess.BB_H8:\n",
    "        input_tensor[13, 7, 0] = 1\n",
    "    if castling_rights & chess.BB_A8:\n",
    "        input_tensor[13, 7, 7] = 1\n",
    "    ep_square = board.ep_square\n",
    "    if ep_square:\n",
    "        ep_file, ep_rank = chess.square_file(ep_square), chess.square_rank(ep_square)\n",
    "        input_tensor[14, ep_rank, ep_file] = 1\n",
    "    return input_tensor"
   ]
  },
  {
   "cell_type": "markdown",
   "metadata": {},
   "source": [
    "## AlphaZero Model"
   ]
  },
  {
   "cell_type": "code",
   "execution_count": 5,
   "metadata": {
    "ExecuteTime": {
     "end_time": "2023-08-10T11:36:12.207673900Z",
     "start_time": "2023-08-10T11:36:12.203485Z"
    }
   },
   "outputs": [],
   "source": [
    "class InputBlock(nn.Module):\n",
    "    def __init__(self):\n",
    "        super().__init__()\n",
    "        self.conv = nn.Conv2d(16, 256, kernel_size=3, padding=\"same\")  # batch_size x 18 x 8 x 8\n",
    "        self.bn = nn.BatchNorm2d(256)\n",
    "\n",
    "    def forward(self, x):\n",
    "        x = F.relu(self.bn(self.conv(x)))\n",
    "        return x\n",
    "\n",
    "class ResBlock(nn.Module):\n",
    "    def __init__(self):\n",
    "        super().__init__()\n",
    "        self.conv1 = nn.Conv2d(256, 256, kernel_size=3, padding=\"same\")\n",
    "        self.bn1 = nn.BatchNorm2d(256)\n",
    "        self.conv2 = nn.Conv2d(256, 256, kernel_size=3, padding=\"same\")\n",
    "        self.bn2 = nn.BatchNorm2d(256)\n",
    "\n",
    "    def forward(self, x):\n",
    "        res = x\n",
    "        out = F.relu(self.bn1(self.conv1(x)))\n",
    "        out = self.bn2(self.conv2(out))\n",
    "        out += res\n",
    "        out = F.relu(out)\n",
    "        return out\n",
    "\n",
    "class ValueHead(nn.Module):\n",
    "    def __init__(self):\n",
    "        super().__init__()\n",
    "        self.to(device)\n",
    "        self.conv = nn.Conv2d(256, 4, kernel_size=1, padding=\"same\")\n",
    "        self.bn = nn.BatchNorm2d(4)\n",
    "        self.fc1 = nn.Linear(4 * 8 * 8, 4 * 8 * 8)\n",
    "        self.fc2 = nn.Linear(4 * 8 * 8, 1)\n",
    "\n",
    "    def forward(self, x):\n",
    "        x = F.relu(self.bn(self.conv(x)))\n",
    "        x = nn.Flatten()(x)\n",
    "        x = self.fc1(x)\n",
    "        x = self.fc2(x)\n",
    "        return x\n",
    "\n",
    "class PolicyHead(nn.Module):\n",
    "    def __init__(self):\n",
    "        super().__init__()\n",
    "        self.conv = nn.Conv2d(256, 2, kernel_size=1, padding=\"same\")\n",
    "        self.bn = nn.BatchNorm2d(2)\n",
    "        self.fc = nn.Linear(2 * 8 * 8, 4608)\n",
    "\n",
    "    def forward(self, x):\n",
    "        x = F.relu(self.bn(self.conv(x)))\n",
    "        x = nn.Flatten()(x)\n",
    "        x = self.fc(x)\n",
    "        return x\n",
    "\n",
    "class AlphaZeroChessModel(nn.Module):\n",
    "    def __init__(self, res_block_num=20):\n",
    "        super().__init__()\n",
    "        self.input_block = InputBlock()\n",
    "        self.res_blocks = nn.ModuleList([ResBlock() for _ in range(res_block_num)])\n",
    "        self.value_head = ValueHead()\n",
    "        self.policy_head = PolicyHead()\n",
    "        self.softmax = nn.Softmax(dim=1)\n",
    "        self.loss_mse = nn.MSELoss()\n",
    "        self.loss_entropy = nn.CrossEntropyLoss()\n",
    "\n",
    "    def forward(self, x, value_target=None, policy_target=None, policy_mask=None):\n",
    "        x = self.input_block(x)\n",
    "        for res_block in self.res_blocks:\n",
    "            x = res_block(x)\n",
    "        value = self.value_head(x)\n",
    "        policy = self.policy_head(x)\n",
    "        if self.training:\n",
    "            value_loss = self.loss_mse(value, value_target)\n",
    "            policy_loss = self.loss_entropy(policy, torch.squeeze(policy_target))\n",
    "            return value_loss, policy_loss\n",
    "        else:\n",
    "            masked_logits = policy * policy_mask.view(policy_mask.shape[0], 4608)\n",
    "            policy_softmax = nn.Softmax(dim=1)(masked_logits)\n",
    "            return value, policy_softmax"
   ]
  },
  {
   "cell_type": "markdown",
   "metadata": {},
   "source": [
    "## Board Encoding"
   ]
  },
  {
   "cell_type": "code",
   "execution_count": 6,
   "metadata": {
    "ExecuteTime": {
     "end_time": "2023-08-10T11:36:12.249107300Z",
     "start_time": "2023-08-10T11:36:12.215673800Z"
    }
   },
   "outputs": [],
   "source": [
    "def parse_result(result):\n",
    "    if result == \"1-0\":\n",
    "        return 1\n",
    "    elif result == \"1/2-1/2\":\n",
    "        return 0\n",
    "    elif result == \"0-1\":\n",
    "        return -1\n",
    "    else:\n",
    "        raise Exception(f\"Unexpected result string {result}\")\n",
    "\n",
    "\n",
    "def encode_position(board: chess.Board):\n",
    "    planes = np.zeros((16, 8, 8), dtype=np.float32)\n",
    "\n",
    "    white_pawns = board.pieces(chess.PAWN, chess.WHITE)\n",
    "    white_pawns = [(chess.square_rank(i), chess.square_file(i)) for i in white_pawns]\n",
    "    for rank, file in white_pawns:\n",
    "        planes[0, rank, file] = 1.\n",
    "\n",
    "    black_pawns = board.pieces(chess.PAWN, chess.BLACK)\n",
    "    black_pawns = [(chess.square_rank(i), chess.square_file(i)) for i in black_pawns]\n",
    "    for rank, file in black_pawns:\n",
    "        planes[1, rank, file] = 1.\n",
    "\n",
    "    white_rooks = board.pieces(chess.ROOK, chess.WHITE)\n",
    "    white_rooks = [(chess.square_rank(i), chess.square_file(i)) for i in white_rooks]\n",
    "    for rank, file in white_rooks:\n",
    "        planes[2, rank, file] = 1.\n",
    "\n",
    "    black_rooks = board.pieces(chess.ROOK, chess.BLACK)\n",
    "    black_rooks = [(chess.square_rank(i), chess.square_file(i)) for i in black_rooks]\n",
    "    for rank, file in black_rooks:\n",
    "        planes[3, rank, file] = 1.\n",
    "\n",
    "    white_bishops = board.pieces(chess.BISHOP, chess.WHITE)\n",
    "    white_bishops = [(chess.square_rank(i), chess.square_file(i)) for i in white_bishops]\n",
    "    for rank, file in white_bishops:\n",
    "        planes[4, rank, file] = 1.\n",
    "\n",
    "    black_bishops = board.pieces(chess.BISHOP, chess.BLACK)\n",
    "    black_bishops = [(chess.square_rank(i), chess.square_file(i)) for i in black_bishops]\n",
    "    for rank, file in black_bishops:\n",
    "        planes[5, rank, file] = 1.\n",
    "\n",
    "    white_knights = board.pieces(chess.KNIGHT, chess.WHITE)\n",
    "    white_knights = [(chess.square_rank(i), chess.square_file(i)) for i in white_knights]\n",
    "    for rank, file in white_knights:\n",
    "        planes[6, rank, file] = 1.\n",
    "\n",
    "    black_knights = board.pieces(chess.KNIGHT, chess.BLACK)\n",
    "    black_knights = [(chess.square_rank(i), chess.square_file(i)) for i in black_knights]\n",
    "    for rank, file in black_knights:\n",
    "        planes[7, rank, file] = 1.\n",
    "\n",
    "    white_queens = board.pieces(chess.QUEEN, chess.WHITE)\n",
    "    white_queens = [(chess.square_rank(i), chess.square_file(i)) for i in white_queens]\n",
    "    for rank, file in white_queens:\n",
    "        planes[8, rank, file] = 1.\n",
    "\n",
    "    black_queens = board.pieces(chess.QUEEN, chess.BLACK)\n",
    "    black_queens = [(chess.square_rank(i), chess.square_file(i)) for i in black_queens]\n",
    "    for rank, file in black_queens:\n",
    "        planes[9, rank, file] = 1.\n",
    "\n",
    "    white_kings = board.pieces(chess.KING, chess.WHITE)\n",
    "    white_kings = [(chess.square_rank(i), chess.square_file(i)) for i in white_kings]\n",
    "    for rank, file in white_kings:\n",
    "        planes[10, rank, file] = 1.\n",
    "\n",
    "    black_kings = board.pieces(chess.KING, chess.BLACK)\n",
    "    black_kings = [(chess.square_rank(i), chess.square_file(i)) for i in black_kings]\n",
    "    for rank, file in black_kings:\n",
    "        planes[11, rank, file] = 1.\n",
    "\n",
    "    if board.has_queenside_castling_rights(chess.WHITE):\n",
    "        planes[12, :, :] = 1.\n",
    "\n",
    "    if board.has_kingside_castling_rights(chess.WHITE):\n",
    "        planes[13, :, :] = 1.\n",
    "\n",
    "    if board.has_queenside_castling_rights(chess.BLACK):\n",
    "        planes[14, :, :] = 1.\n",
    "\n",
    "    if board.has_kingside_castling_rights(chess.BLACK):\n",
    "        planes[15, :, :] = 1.\n",
    "\n",
    "    return planes\n",
    "\n",
    "\n",
    "def move_to_index(move):\n",
    "    # 4 directions for rook x 8 distances = 32\n",
    "    # 4 directions for bishop x 8 distances = 32\n",
    "    # 8 directions for knight x 1 distance = 8\n",
    "    # Maps a legal move to an index in (72, 8, 8)\n",
    "\n",
    "    from_rank = chess.square_rank(move.from_square)\n",
    "    from_file = chess.square_file(move.from_square)\n",
    "\n",
    "    to_rank = chess.square_rank(move.to_square)\n",
    "    to_file = chess.square_file(move.to_square)\n",
    "\n",
    "    if from_rank == to_rank and from_file < to_file:\n",
    "        direction = 0\n",
    "        distance = to_file - from_file\n",
    "        res = direction + distance\n",
    "    elif from_rank == to_rank and from_file > to_file:\n",
    "        direction = 8\n",
    "        distance = from_file - to_file\n",
    "        res = direction + distance\n",
    "    elif from_file == to_file and from_rank < to_rank:\n",
    "        direction = 16\n",
    "        distance = to_rank - from_rank\n",
    "        res = direction + distance\n",
    "    elif from_file == to_file and from_rank > to_rank:\n",
    "        direction = 24\n",
    "        distance = from_rank - to_rank\n",
    "        res = direction + distance\n",
    "    elif to_file - from_file == to_rank - from_rank and to_file - from_file > 0:\n",
    "        direction = 32\n",
    "        distance = to_rank - from_rank\n",
    "        res = direction + distance\n",
    "    elif to_file - from_file == to_rank - from_rank and to_file - from_file < 0:\n",
    "        direction = 40\n",
    "        distance = from_rank - to_rank\n",
    "        res = direction + distance\n",
    "    elif to_file - from_file == -(to_rank - from_rank) and to_file - from_file > 0:\n",
    "        direction = 48\n",
    "        distance = to_file - from_file\n",
    "        res = direction + distance\n",
    "    elif to_file - from_file == -(to_rank - from_rank) and to_file - from_file < 0:\n",
    "        direction = 56\n",
    "        distance = from_file - to_file\n",
    "        res = direction + distance\n",
    "    elif to_file - from_file == 1 and to_rank - from_rank == 2:\n",
    "        res = 64\n",
    "    elif to_file - from_file == 2 and to_rank - from_rank == 1:\n",
    "        res = 65\n",
    "    elif to_file - from_file == 2 and to_rank - from_rank == -1:\n",
    "        res = 66\n",
    "    elif to_file - from_file == 1 and to_rank - from_rank == -2:\n",
    "        res = 67\n",
    "    elif to_file - from_file == -1 and to_rank - from_rank == 2:\n",
    "        res = 68\n",
    "    elif to_file - from_file == -2 and to_rank - from_rank == 1:\n",
    "        res = 69\n",
    "    elif to_file - from_file == -2 and to_rank - from_rank == -1:\n",
    "        res = 70\n",
    "    elif to_file - from_file == -1 and to_rank - from_rank == -2:\n",
    "        res = 71\n",
    "\n",
    "    return res, from_rank, from_file\n",
    "\n",
    "\n",
    "def get_legal_moves_mask(board):\n",
    "    mask = np.zeros((72, 8, 8), dtype=np.int32)\n",
    "    for i in board.legal_moves:\n",
    "        mask[*move_to_index(i)] = 1\n",
    "    return mask\n",
    "\n",
    "\n",
    "def mirror_move(move):\n",
    "    from_square = move.from_square\n",
    "    to_square = move.to_square\n",
    "    new_from_square = chess.square_mirror(from_square)\n",
    "    new_to_square = chess.square_mirror(to_square)\n",
    "    return chess.Move(new_from_square, new_to_square)\n",
    "\n",
    "\n",
    "def encode_training_point(board, move, winner):\n",
    "    if not board.turn:  # see everything from white's perspective\n",
    "        board = board.mirror()\n",
    "        winner *= -1\n",
    "        move = mirror_move(move)\n",
    "    position_planes = encode_position(board)\n",
    "    plane_index, rank_index, file_index = move_to_index(move)\n",
    "    move_index = plane_index * 64 + rank_index * 8 + file_index  # https://stackoverflow.com/questions/7367770/how-to-flatten-or-index-3d-array-in-1d-array\n",
    "    mask = get_legal_moves_mask(board)\n",
    "    return position_planes, move_index, float(winner), mask\n",
    "\n",
    "\n",
    "def encode_position_and_mask(board):\n",
    "    if not board.turn:\n",
    "        board = board.mirror()\n",
    "    return encode_position(board), get_legal_moves_mask(board)\n",
    "\n",
    "\n",
    "def decode_policy_output(board, policy):\n",
    "    move_probs = np.zeros(200, dtype=np.float32)  # 200 is more than enough to accomodate the max number of moves for a single position\n",
    "    num_moves = 0\n",
    "    for i, move in enumerate(board.legal_moves):\n",
    "        if not board.turn:\n",
    "            move = mirror_move(move)\n",
    "        plane_index, rank_index, file_index = move_to_index(move)\n",
    "        move_index = plane_index * 64 + rank_index * 8 + file_index\n",
    "        move_probs[i] = policy[move_index]\n",
    "        num_moves += 1\n",
    "    return move_probs[:num_moves]\n",
    "\n",
    "\n",
    "def call_model(board, model):\n",
    "    position, mask = encode_position_and_mask(board)\n",
    "    position = torch.from_numpy(position)[None, ...].to(device)\n",
    "    mask = torch.from_numpy(mask)[None, ...].to(device)\n",
    "    model.eval()\n",
    "    with torch.no_grad():\n",
    "        value, policy = model(position, policy_mask=mask)\n",
    "    value = value.cpu().numpy()[0, 0]\n",
    "    policy = policy.cpu().numpy()[0]\n",
    "    move_probs = decode_policy_output(board, policy)\n",
    "    return value, move_probs\n",
    "\n",
    "\n",
    "def call_model_batched(boards, model):\n",
    "    batch_size = len(boards)\n",
    "    inputs = torch.zeros((batch_size, 16, 8, 8), dtype=torch.float32)\n",
    "    masks = torch.zeros((batch_size, 72, 8, 8), dtype=torch.float32)\n",
    "    for i in range(batch_size):\n",
    "        position, mask = encode_position_and_mask(boards[i])\n",
    "        inputs[i] = torch.from_numpy(position).to(device)\n",
    "        masks[i] = torch.from_numpy(masks).to(device)\n",
    "    value, policy = model(inputs, policy_mask=masks)\n",
    "    move_probs = np.zeros((batch_size, 200), dtype=np.float32)\n",
    "    value = value.cpu().numpy().reshape((batch_size))\n",
    "    policy = policy.cpu().numpy()\n",
    "    for i in range(batch_size):\n",
    "        move_probs_tmp = decode_policy_output(boards[i], policy[i])\n",
    "        move_probs[i, :move_probs_tmp.shape[0]] = move_probs_tmp\n",
    "    return value, move_probs"
   ]
  },
  {
   "cell_type": "markdown",
   "metadata": {},
   "source": [
    "## Monte Carlo Tree Search"
   ]
  },
  {
   "cell_type": "code",
   "execution_count": 7,
   "metadata": {
    "ExecuteTime": {
     "end_time": "2023-08-10T11:36:12.259116Z",
     "start_time": "2023-08-10T11:36:12.225806400Z"
    }
   },
   "outputs": [],
   "source": [
    "def get_uct(edge, N_p):\n",
    "    # https://int8.io/monte-carlo-tree-search-beginners-guide/\n",
    "    Q = edge.getQ()\n",
    "    N_c = edge.getN()\n",
    "    P = edge.getP()\n",
    "    C = 1.5\n",
    "    return (1 - (Q / N_c)) + C * P * (math.sqrt(N_p) / (1 + N_c))\n",
    "\n",
    "\n",
    "class Node:\n",
    "    def __init__(self, board, Q, move_probs):\n",
    "        self.N = 1\n",
    "        self.sum_Q = Q\n",
    "        self.edges = []\n",
    "        for i, move in enumerate(board.legal_moves):\n",
    "            edge = Edge(move, move_probs[i])\n",
    "            self.edges.append(edge)\n",
    "\n",
    "    def getN(self):\n",
    "        return self.N\n",
    "\n",
    "    def getQ(self):\n",
    "        return self.sum_Q\n",
    "\n",
    "    def select_max_uct(self):\n",
    "        max_uct = float(\"-inf\")\n",
    "        max_edge = None\n",
    "        for i in self.edges:\n",
    "            uct = get_uct(i, self.N)\n",
    "            if max_uct < uct:\n",
    "                max_edge= i\n",
    "        return max_edge\n",
    "\n",
    "    def select_max_N(self):\n",
    "        max_N = float(\"-inf\")\n",
    "        max_edge = None\n",
    "        for i in self.edges:\n",
    "            N = i.getN()\n",
    "            if max_N < N:\n",
    "                max_N = N\n",
    "                max_edge = i\n",
    "        return max_edge\n",
    "\n",
    "    def get_statistics(self):\n",
    "        res = f\"|{'move': ^10}|{'P': ^10}|{'N': ^10}|{'Q': ^10}|{'UCT': ^10}|\\n\"\n",
    "        edges = self.edges.copy()\n",
    "        edges.sort(key=lambda x: x.getN(), reverse=True)\n",
    "        for i in edges:\n",
    "            move = i.get_move()\n",
    "            P = i.getP()\n",
    "            N = i.getN()\n",
    "            Q = i.getQ()\n",
    "            uct = get_uct(i, self.N)\n",
    "            res += f\"|{str(move): ^10}|{P: ^10}|{N: ^10}|{Q: ^10}|{uct: ^10}|\\n\"\n",
    "        return res\n",
    "\n",
    "    def is_terminal(self):\n",
    "        return len(self.edges) == 0\n",
    "\n",
    "\n",
    "class Edge:\n",
    "    def __init__(self, move, prob):\n",
    "        self.move = move\n",
    "        self.P = prob\n",
    "        self.child = None\n",
    "        # Virtual losses are then added to an edge to discourage other threads from selecting the same edge in parallel processing\n",
    "        self.virtual_loss = 0.\n",
    "\n",
    "    def has_child(self):\n",
    "        return self.child is not None\n",
    "\n",
    "    def getN(self):\n",
    "        if self.has_child():\n",
    "            return self.child.getN() + self.virtual_loss\n",
    "        return 1.\n",
    "\n",
    "    def getQ(self):\n",
    "        if self.has_child():\n",
    "            return self.child.getQ() + self.virtual_loss\n",
    "        else:\n",
    "            return 0.\n",
    "\n",
    "    def getP(self):\n",
    "        return self.P\n",
    "\n",
    "    def expand(self, board, Q, move_probs):\n",
    "        if self.child is None:  # if node has not been expanded yet\n",
    "            self.child = Node(board, Q, move_probs)\n",
    "            return True\n",
    "        return False\n",
    "\n",
    "    def get_child(self):\n",
    "        return self.child\n",
    "\n",
    "    def get_move(self):\n",
    "        return self.move\n",
    "\n",
    "    def add_virtual_loss(self):\n",
    "        self.virtual_loss += 1\n",
    "\n",
    "    def clear_virtual_loss(self):\n",
    "        self.virtual_loss = 0.\n",
    "\n",
    "\n",
    "class Root(Node):\n",
    "    def __init__(self, board, model):\n",
    "        evaluation, move_probs = call_model(board, model)\n",
    "        Q = evaluation / 2. + 0.5\n",
    "        super().__init__(board, Q, move_probs)\n",
    "        self.same_paths = 0\n",
    "\n",
    "    def select(self, board, node_path, edge_path):\n",
    "        node = self\n",
    "        while True:\n",
    "            node_path.append(node)\n",
    "            edge = node.select_max_uct()\n",
    "            edge_path.append(edge)\n",
    "            if edge is None:\n",
    "                break\n",
    "            edge.add_virtual_loss()\n",
    "            board.push(edge.get_move())\n",
    "            if not edge.has_child():\n",
    "                break\n",
    "            node = edge.get_child()\n",
    "\n",
    "    def rollout(self, board, model):\n",
    "        node_path = []\n",
    "        edge_path = []\n",
    "        self.select(board, node_path, edge_path)\n",
    "        edge = edge_path[-1]\n",
    "        if edge is not None:\n",
    "            value, move_probs = call_model(board, model)\n",
    "            Q = value / 2. + 0.5\n",
    "            edge.expand(board, Q, move_probs)\n",
    "            Q = 1. - Q\n",
    "        else:\n",
    "            winner = parse_result(board.result())\n",
    "            if not board.turn:\n",
    "                winner *= -1\n",
    "            Q = float(winner) / 2. + 0.5\n",
    "        last_node_index = len(node_path) - 1\n",
    "        for i in range(last_node_index, -1, -1):\n",
    "            node = node_path[i]\n",
    "            node.N += 1\n",
    "            if (last_node_index - i) % 2 == 0:\n",
    "                node.sum_Q += Q\n",
    "            else:\n",
    "                node.sum_Q += 1. - Q\n",
    "        for edge in edge_path:\n",
    "            if edge is not None:\n",
    "                edge.clear_virtual_loss()"
   ]
  },
  {
   "cell_type": "markdown",
   "metadata": {
    "collapsed": false
   },
   "source": [
    "## Training"
   ]
  },
  {
   "cell_type": "code",
   "execution_count": 8,
   "metadata": {},
   "outputs": [],
   "source": [
    "# tar.extract('data/new_pgns/.ipynb_checkpoints/game_1_1-checkpoint.pgn')\n",
    "# with open(game_file.name, \"r\") as f:\n",
    "#     game = chess.pgn.read_game(f)\n",
    "#     moves = []\n",
    "#     for i in game.mainline_moves():\n",
    "#         moves.append(i)"
   ]
  },
  {
   "cell_type": "code",
   "execution_count": 9,
   "metadata": {},
   "outputs": [],
   "source": [
    "# members = tar.getmembers()"
   ]
  },
  {
   "cell_type": "code",
   "execution_count": 10,
   "metadata": {
    "scrolled": true
   },
   "outputs": [],
   "source": [
    "# members[:101][:10]"
   ]
  },
  {
   "cell_type": "code",
   "execution_count": 11,
   "metadata": {},
   "outputs": [],
   "source": [
    "# members100 = members[:101]\n",
    "# new = []\n",
    "# for i in members100:\n",
    "#     if i.name.endswith(\".pgn\") and (\"ipynb_checkpoints\" not in i.name):\n",
    "#         new.append(i)"
   ]
  },
  {
   "cell_type": "code",
   "execution_count": 12,
   "metadata": {
    "ExecuteTime": {
     "end_time": "2023-08-10T11:36:12.259116Z",
     "start_time": "2023-08-10T11:36:12.229241100Z"
    }
   },
   "outputs": [],
   "source": [
    "# # testing tar\n",
    "# # tar = tarfile.open(\"pgns.tar\", \"r\")\n",
    "# broken = []\n",
    "# for game_file in tar.getmembers():\n",
    "#     if game_file.name.endswith(\".pgn\"):\n",
    "#         tar.extract(game_file)\n",
    "#         with open(game_file.name, \"r\") as f:\n",
    "#             game = chess.pgn.read_game(f)\n",
    "#             moves = []\n",
    "#             for i in game.mainline_moves():\n",
    "#                 moves.append(i)\n",
    "#             print(len(moves))\n",
    "#             if len(moves) == 0:\n",
    "#                 broken.append(game_file.name)"
   ]
  },
  {
   "cell_type": "code",
   "execution_count": 13,
   "metadata": {
    "ExecuteTime": {
     "end_time": "2023-08-10T11:36:12.259116Z",
     "start_time": "2023-08-10T11:36:12.249107300Z"
    },
    "scrolled": true
   },
   "outputs": [],
   "source": [
    "import chess.pgn\n",
    "\n",
    "class GameData(Dataset):\n",
    "    def __init__(self, pgn_dir=\"pgns.tar\"):\n",
    "        self.tar = tarfile.open(pgn_dir, \"r\")\n",
    "        self.members = []\n",
    "        for i in self.tar.getmembers():\n",
    "            if i.name.endswith(\".pgn\") and (\"ipynb_checkpoints\" not in i.name):\n",
    "                self.members.append(i)\n",
    "\n",
    "    def __len__(self):\n",
    "        return len(self.members)\n",
    "\n",
    "    def __getitem__(self, idx):\n",
    "        file_to_read = self.members[idx]\n",
    "        self.tar.extract(file_to_read)\n",
    "        with open(file_to_read.name, \"r\") as f:\n",
    "            game = chess.pgn.read_game(f)\n",
    "            moves = []\n",
    "            for i in game.mainline_moves():\n",
    "                moves.append(i)\n",
    "            rand_idx = np.random.randint(0, len(moves) - 1, dtype=int)\n",
    "            board = game.board()\n",
    "            for i, move in enumerate(moves):\n",
    "                board.push(move)\n",
    "                if i == rand_idx:\n",
    "                    next_move = moves[i + 1]\n",
    "                    break\n",
    "            winner = parse_result(game.headers[\"Result\"])\n",
    "            position, policy, value, mask = encode_training_point(board, next_move, winner)\n",
    "            return {\"position\": torch.from_numpy(position),\n",
    "                    \"policy\": torch.Tensor([policy]).type(torch.long),\n",
    "                    \"value\": torch.Tensor([value]),\n",
    "                    \"mask\": torch.from_numpy(mask)}\n",
    "\n",
    "\n",
    "def train(epochs=10, load_model_path=None):\n",
    "    print(\"Fetching data\")\n",
    "    data_path = os.path.join(\"pgns.tar\")\n",
    "    data = GameData(data_path)\n",
    "    dataloader = DataLoader(data, batch_size=256, shuffle=True)\n",
    "\n",
    "    model = AlphaZeroChessModel().to(device)\n",
    "    optimizer = optim.Adam(model.parameters())\n",
    "    if load_model_path is not None:\n",
    "        model_data = torch.load(load_model_path, map_location=device)\n",
    "        model.load_state_dict(model_data[\"model_state_dict\"])\n",
    "        optimizer.load_state_dict(model_data[\"optimizer_state_dict\"])\n",
    "\n",
    "    print(\"Starting training\")\n",
    "    for epoch in range(epochs):\n",
    "        model.train()\n",
    "        print(f\"Epoch #{epoch + 1}\")\n",
    "        pbar = tqdm(dataloader)\n",
    "        for i, data in enumerate(pbar):\n",
    "            position = data[\"position\"].to(device)\n",
    "            value = data[\"value\"].to(device)\n",
    "            policy = data[\"policy\"].to(device)\n",
    "\n",
    "            value_loss, policy_loss = model(position, value_target=value, policy_target=policy)\n",
    "            loss = value_loss + policy_loss\n",
    "\n",
    "            optimizer.zero_grad()\n",
    "            loss.backward()\n",
    "            optimizer.step()\n",
    "\n",
    "            pbar.set_postfix({\"loss\": f\"{loss.item():.3f}\"})\n",
    "            pbar.set_postfix({\"loss\": f\"{loss.item():.3f}\"})\n",
    "\n",
    "        # if (epoch + 1) % 250 == 0:\n",
    "        save_info = {\n",
    "            \"model_state_dict\": model.state_dict(),\n",
    "            \"optimizer_state_dict\": optimizer.state_dict()\n",
    "        }\n",
    "        torch.save(save_info, f\"models/model_epoch_{epoch + 1}.pth\")"
   ]
  },
  {
   "cell_type": "code",
   "execution_count": 14,
   "metadata": {
    "ExecuteTime": {
     "end_time": "2023-08-10T11:36:12.259116Z",
     "start_time": "2023-08-10T11:36:12.249107300Z"
    },
    "collapsed": false
   },
   "outputs": [],
   "source": [
    "# # testing data loader\n",
    "# data_path = os.path.join(\"pgns.tar\")\n",
    "# data = GameData(data_path)\n",
    "# dataloader = DataLoader(data, batch_size=256, shuffle=True)\n",
    "# next(iter(dataloader))[\"position\"].shape"
   ]
  },
  {
   "cell_type": "code",
   "execution_count": 20,
   "metadata": {},
   "outputs": [
    {
     "data": {
      "text/plain": [
       "'D:\\\\Programming\\\\DeepLearning\\\\Chess'"
      ]
     },
     "execution_count": 20,
     "metadata": {},
     "output_type": "execute_result"
    }
   ],
   "source": [
    "%pwd"
   ]
  },
  {
   "cell_type": "code",
   "execution_count": null,
   "metadata": {
    "ExecuteTime": {
     "end_time": "2023-08-10T12:54:30.126629100Z",
     "start_time": "2023-08-10T11:36:12.249107300Z"
    },
    "collapsed": false
   },
   "outputs": [
    {
     "name": "stdout",
     "output_type": "stream",
     "text": [
      "Fetching data\n",
      "Starting training\n",
      "Epoch #1\n"
     ]
    },
    {
     "name": "stderr",
     "output_type": "stream",
     "text": [
      " 43%|██████████████████████████▋                                   | 3358/7813 [1:26:56<2:34:45,  2.08s/it, loss=3.635]"
     ]
    }
   ],
   "source": [
    "train(epochs=100)"
   ]
  },
  {
   "cell_type": "markdown",
   "metadata": {},
   "source": [
    "## Gameplay"
   ]
  },
  {
   "cell_type": "code",
   "execution_count": 8,
   "metadata": {
    "ExecuteTime": {
     "start_time": "2023-08-10T12:54:30.126629100Z"
    }
   },
   "outputs": [],
   "source": [
    "def check_end(board: chess.Board):\n",
    "    outcome = board.outcome()\n",
    "    if outcome is not None:\n",
    "        if outcome.winner:  # if white has won\n",
    "            print(f\"Game has ended, white has won by \", end=\"\")\n",
    "        elif outcome.winner is None:\n",
    "            print(f\"Game has ended, it is a draw by \", end=\"\")\n",
    "        else:\n",
    "            print(f\"Game has ended, black has won by \", end=\"\")\n",
    "        if outcome.termination == chess.Termination.CHECKMATE:\n",
    "            print(\"checkmate!\")\n",
    "        elif outcome.termination == chess.Termination.STALEMATE:\n",
    "            print(\"stalemate!\")\n",
    "        elif outcome.termination == chess.Termination.INSUFFICIENT_MATERIAL:\n",
    "            print(\"insufficient material!\")\n",
    "        elif outcome.termination == chess.Termination.FIFTY_MOVES:\n",
    "            print(\"fifty moves!\")\n",
    "        else:\n",
    "            print(\"repetition!\")\n",
    "        return True\n",
    "    return False"
   ]
  },
  {
   "cell_type": "code",
   "execution_count": 9,
   "metadata": {
    "collapsed": false
   },
   "outputs": [],
   "source": [
    "def play_chess(model_path, player_color=True):\n",
    "    num_rollouts = 30\n",
    "    \n",
    "    model = AlphaZeroChessModel().to(device)\n",
    "    model.load_state_dict(torch.load(model_path, map_location=device)[\"model_state_dict\"])\n",
    "    \n",
    "    board = chess.Board()\n",
    "    \n",
    "    while True:\n",
    "        display_board(board)\n",
    "        if check_end(board):\n",
    "            break\n",
    "        if board.turn == player_color:\n",
    "            legal_moves = {}\n",
    "            for i in board.legal_moves:\n",
    "                legal_moves[i] = str(i)\n",
    "            print(\"White's turn!\")\n",
    "            move = input(\"Pick a move: \")\n",
    "            if move not in list(legal_moves.values()):\n",
    "                print(\"That's not a valid move!\")\n",
    "                continue\n",
    "            board.push(list(legal_moves.keys())[list(legal_moves.values()).index(move)])\n",
    "        else:\n",
    "            with torch.no_grad():\n",
    "                root = Root(board, model)\n",
    "                for i in range(num_rollouts):\n",
    "                    root.rollout(board.copy(), model)\n",
    "            Q = root.getQ()\n",
    "            N = root.getN()\n",
    "            print(root.get_statistics())\n",
    "            edge = root.select_max_N()\n",
    "            best_move = edge.get_move()\n",
    "            board.push(best_move)"
   ]
  },
  {
   "cell_type": "code",
   "execution_count": 10,
   "metadata": {
    "collapsed": true,
    "jupyter": {
     "outputs_hidden": true
    }
   },
   "outputs": [
    {
     "data": {
      "image/svg+xml": [
       "<svg xmlns=\"http://www.w3.org/2000/svg\" xmlns:xlink=\"http://www.w3.org/1999/xlink\" version=\"1.2\" baseProfile=\"tiny\" viewBox=\"0 0 390 390\" width=\"400\" height=\"400\"><desc><pre>r . b q k b n r\n",
       ". . . n . . p Q\n",
       ". . . . . . . .\n",
       "p p p . p p . .\n",
       ". . . . . . . .\n",
       ". . . . . . . .\n",
       "P P P P . P P P\n",
       "R N B . K B N R</pre></desc><defs><g id=\"white-pawn\" class=\"white pawn\"><path d=\"M22.5 9c-2.21 0-4 1.79-4 4 0 .89.29 1.71.78 2.38C17.33 16.5 16 18.59 16 21c0 2.03.94 3.84 2.41 5.03-3 1.06-7.41 5.55-7.41 13.47h23c0-7.92-4.41-12.41-7.41-13.47 1.47-1.19 2.41-3 2.41-5.03 0-2.41-1.33-4.5-3.28-5.62.49-.67.78-1.49.78-2.38 0-2.21-1.79-4-4-4z\" fill=\"#fff\" stroke=\"#000\" stroke-width=\"1.5\" stroke-linecap=\"round\"/></g><g id=\"white-knight\" class=\"white knight\" fill=\"none\" fill-rule=\"evenodd\" stroke=\"#000\" stroke-width=\"1.5\" stroke-linecap=\"round\" stroke-linejoin=\"round\"><path d=\"M 22,10 C 32.5,11 38.5,18 38,39 L 15,39 C 15,30 25,32.5 23,18\" style=\"fill:#ffffff; stroke:#000000;\"/><path d=\"M 24,18 C 24.38,20.91 18.45,25.37 16,27 C 13,29 13.18,31.34 11,31 C 9.958,30.06 12.41,27.96 11,28 C 10,28 11.19,29.23 10,30 C 9,30 5.997,31 6,26 C 6,24 12,14 12,14 C 12,14 13.89,12.1 14,10.5 C 13.27,9.506 13.5,8.5 13.5,7.5 C 14.5,6.5 16.5,10 16.5,10 L 18.5,10 C 18.5,10 19.28,8.008 21,7 C 22,7 22,10 22,10\" style=\"fill:#ffffff; stroke:#000000;\"/><path d=\"M 9.5 25.5 A 0.5 0.5 0 1 1 8.5,25.5 A 0.5 0.5 0 1 1 9.5 25.5 z\" style=\"fill:#000000; stroke:#000000;\"/><path d=\"M 15 15.5 A 0.5 1.5 0 1 1 14,15.5 A 0.5 1.5 0 1 1 15 15.5 z\" transform=\"matrix(0.866,0.5,-0.5,0.866,9.693,-5.173)\" style=\"fill:#000000; stroke:#000000;\"/></g><g id=\"white-bishop\" class=\"white bishop\" fill=\"none\" fill-rule=\"evenodd\" stroke=\"#000\" stroke-width=\"1.5\" stroke-linecap=\"round\" stroke-linejoin=\"round\"><g fill=\"#fff\" stroke-linecap=\"butt\"><path d=\"M9 36c3.39-.97 10.11.43 13.5-2 3.39 2.43 10.11 1.03 13.5 2 0 0 1.65.54 3 2-.68.97-1.65.99-3 .5-3.39-.97-10.11.46-13.5-1-3.39 1.46-10.11.03-13.5 1-1.354.49-2.323.47-3-.5 1.354-1.94 3-2 3-2zM15 32c2.5 2.5 12.5 2.5 15 0 .5-1.5 0-2 0-2 0-2.5-2.5-4-2.5-4 5.5-1.5 6-11.5-5-15.5-11 4-10.5 14-5 15.5 0 0-2.5 1.5-2.5 4 0 0-.5.5 0 2zM25 8a2.5 2.5 0 1 1-5 0 2.5 2.5 0 1 1 5 0z\"/></g><path d=\"M17.5 26h10M15 30h15m-7.5-14.5v5M20 18h5\" stroke-linejoin=\"miter\"/></g><g id=\"white-rook\" class=\"white rook\" fill=\"#fff\" fill-rule=\"evenodd\" stroke=\"#000\" stroke-width=\"1.5\" stroke-linecap=\"round\" stroke-linejoin=\"round\"><path d=\"M9 39h27v-3H9v3zM12 36v-4h21v4H12zM11 14V9h4v2h5V9h5v2h5V9h4v5\" stroke-linecap=\"butt\"/><path d=\"M34 14l-3 3H14l-3-3\"/><path d=\"M31 17v12.5H14V17\" stroke-linecap=\"butt\" stroke-linejoin=\"miter\"/><path d=\"M31 29.5l1.5 2.5h-20l1.5-2.5\"/><path d=\"M11 14h23\" fill=\"none\" stroke-linejoin=\"miter\"/></g><g id=\"white-queen\" class=\"white queen\" fill=\"#fff\" fill-rule=\"evenodd\" stroke=\"#000\" stroke-width=\"1.5\" stroke-linecap=\"round\" stroke-linejoin=\"round\"><path d=\"M8 12a2 2 0 1 1-4 0 2 2 0 1 1 4 0zM24.5 7.5a2 2 0 1 1-4 0 2 2 0 1 1 4 0zM41 12a2 2 0 1 1-4 0 2 2 0 1 1 4 0zM16 8.5a2 2 0 1 1-4 0 2 2 0 1 1 4 0zM33 9a2 2 0 1 1-4 0 2 2 0 1 1 4 0z\"/><path d=\"M9 26c8.5-1.5 21-1.5 27 0l2-12-7 11V11l-5.5 13.5-3-15-3 15-5.5-14V25L7 14l2 12zM9 26c0 2 1.5 2 2.5 4 1 1.5 1 1 .5 3.5-1.5 1-1.5 2.5-1.5 2.5-1.5 1.5.5 2.5.5 2.5 6.5 1 16.5 1 23 0 0 0 1.5-1 0-2.5 0 0 .5-1.5-1-2.5-.5-2.5-.5-2 .5-3.5 1-2 2.5-2 2.5-4-8.5-1.5-18.5-1.5-27 0z\" stroke-linecap=\"butt\"/><path d=\"M11.5 30c3.5-1 18.5-1 22 0M12 33.5c6-1 15-1 21 0\" fill=\"none\"/></g><g id=\"white-king\" class=\"white king\" fill=\"none\" fill-rule=\"evenodd\" stroke=\"#000\" stroke-width=\"1.5\" stroke-linecap=\"round\" stroke-linejoin=\"round\"><path d=\"M22.5 11.63V6M20 8h5\" stroke-linejoin=\"miter\"/><path d=\"M22.5 25s4.5-7.5 3-10.5c0 0-1-2.5-3-2.5s-3 2.5-3 2.5c-1.5 3 3 10.5 3 10.5\" fill=\"#fff\" stroke-linecap=\"butt\" stroke-linejoin=\"miter\"/><path d=\"M11.5 37c5.5 3.5 15.5 3.5 21 0v-7s9-4.5 6-10.5c-4-6.5-13.5-3.5-16 4V27v-3.5c-3.5-7.5-13-10.5-16-4-3 6 5 10 5 10V37z\" fill=\"#fff\"/><path d=\"M11.5 30c5.5-3 15.5-3 21 0m-21 3.5c5.5-3 15.5-3 21 0m-21 3.5c5.5-3 15.5-3 21 0\"/></g><g id=\"black-pawn\" class=\"black pawn\"><path d=\"M22.5 9c-2.21 0-4 1.79-4 4 0 .89.29 1.71.78 2.38C17.33 16.5 16 18.59 16 21c0 2.03.94 3.84 2.41 5.03-3 1.06-7.41 5.55-7.41 13.47h23c0-7.92-4.41-12.41-7.41-13.47 1.47-1.19 2.41-3 2.41-5.03 0-2.41-1.33-4.5-3.28-5.62.49-.67.78-1.49.78-2.38 0-2.21-1.79-4-4-4z\" fill=\"#000\" stroke=\"#000\" stroke-width=\"1.5\" stroke-linecap=\"round\"/></g><g id=\"black-knight\" class=\"black knight\" fill=\"none\" fill-rule=\"evenodd\" stroke=\"#000\" stroke-width=\"1.5\" stroke-linecap=\"round\" stroke-linejoin=\"round\"><path d=\"M 22,10 C 32.5,11 38.5,18 38,39 L 15,39 C 15,30 25,32.5 23,18\" style=\"fill:#000000; stroke:#000000;\"/><path d=\"M 24,18 C 24.38,20.91 18.45,25.37 16,27 C 13,29 13.18,31.34 11,31 C 9.958,30.06 12.41,27.96 11,28 C 10,28 11.19,29.23 10,30 C 9,30 5.997,31 6,26 C 6,24 12,14 12,14 C 12,14 13.89,12.1 14,10.5 C 13.27,9.506 13.5,8.5 13.5,7.5 C 14.5,6.5 16.5,10 16.5,10 L 18.5,10 C 18.5,10 19.28,8.008 21,7 C 22,7 22,10 22,10\" style=\"fill:#000000; stroke:#000000;\"/><path d=\"M 9.5 25.5 A 0.5 0.5 0 1 1 8.5,25.5 A 0.5 0.5 0 1 1 9.5 25.5 z\" style=\"fill:#ececec; stroke:#ececec;\"/><path d=\"M 15 15.5 A 0.5 1.5 0 1 1 14,15.5 A 0.5 1.5 0 1 1 15 15.5 z\" transform=\"matrix(0.866,0.5,-0.5,0.866,9.693,-5.173)\" style=\"fill:#ececec; stroke:#ececec;\"/><path d=\"M 24.55,10.4 L 24.1,11.85 L 24.6,12 C 27.75,13 30.25,14.49 32.5,18.75 C 34.75,23.01 35.75,29.06 35.25,39 L 35.2,39.5 L 37.45,39.5 L 37.5,39 C 38,28.94 36.62,22.15 34.25,17.66 C 31.88,13.17 28.46,11.02 25.06,10.5 L 24.55,10.4 z \" style=\"fill:#ececec; stroke:none;\"/></g><g id=\"black-bishop\" class=\"black bishop\" fill=\"none\" fill-rule=\"evenodd\" stroke=\"#000\" stroke-width=\"1.5\" stroke-linecap=\"round\" stroke-linejoin=\"round\"><path d=\"M9 36c3.39-.97 10.11.43 13.5-2 3.39 2.43 10.11 1.03 13.5 2 0 0 1.65.54 3 2-.68.97-1.65.99-3 .5-3.39-.97-10.11.46-13.5-1-3.39 1.46-10.11.03-13.5 1-1.354.49-2.323.47-3-.5 1.354-1.94 3-2 3-2zm6-4c2.5 2.5 12.5 2.5 15 0 .5-1.5 0-2 0-2 0-2.5-2.5-4-2.5-4 5.5-1.5 6-11.5-5-15.5-11 4-10.5 14-5 15.5 0 0-2.5 1.5-2.5 4 0 0-.5.5 0 2zM25 8a2.5 2.5 0 1 1-5 0 2.5 2.5 0 1 1 5 0z\" fill=\"#000\" stroke-linecap=\"butt\"/><path d=\"M17.5 26h10M15 30h15m-7.5-14.5v5M20 18h5\" stroke=\"#fff\" stroke-linejoin=\"miter\"/></g><g id=\"black-rook\" class=\"black rook\" fill=\"#000\" fill-rule=\"evenodd\" stroke=\"#000\" stroke-width=\"1.5\" stroke-linecap=\"round\" stroke-linejoin=\"round\"><path d=\"M9 39h27v-3H9v3zM12.5 32l1.5-2.5h17l1.5 2.5h-20zM12 36v-4h21v4H12z\" stroke-linecap=\"butt\"/><path d=\"M14 29.5v-13h17v13H14z\" stroke-linecap=\"butt\" stroke-linejoin=\"miter\"/><path d=\"M14 16.5L11 14h23l-3 2.5H14zM11 14V9h4v2h5V9h5v2h5V9h4v5H11z\" stroke-linecap=\"butt\"/><path d=\"M12 35.5h21M13 31.5h19M14 29.5h17M14 16.5h17M11 14h23\" fill=\"none\" stroke=\"#fff\" stroke-width=\"1\" stroke-linejoin=\"miter\"/></g><g id=\"black-queen\" class=\"black queen\" fill=\"#000\" fill-rule=\"evenodd\" stroke=\"#000\" stroke-width=\"1.5\" stroke-linecap=\"round\" stroke-linejoin=\"round\"><g fill=\"#000\" stroke=\"none\"><circle cx=\"6\" cy=\"12\" r=\"2.75\"/><circle cx=\"14\" cy=\"9\" r=\"2.75\"/><circle cx=\"22.5\" cy=\"8\" r=\"2.75\"/><circle cx=\"31\" cy=\"9\" r=\"2.75\"/><circle cx=\"39\" cy=\"12\" r=\"2.75\"/></g><path d=\"M9 26c8.5-1.5 21-1.5 27 0l2.5-12.5L31 25l-.3-14.1-5.2 13.6-3-14.5-3 14.5-5.2-13.6L14 25 6.5 13.5 9 26zM9 26c0 2 1.5 2 2.5 4 1 1.5 1 1 .5 3.5-1.5 1-1.5 2.5-1.5 2.5-1.5 1.5.5 2.5.5 2.5 6.5 1 16.5 1 23 0 0 0 1.5-1 0-2.5 0 0 .5-1.5-1-2.5-.5-2.5-.5-2 .5-3.5 1-2 2.5-2 2.5-4-8.5-1.5-18.5-1.5-27 0z\" stroke-linecap=\"butt\"/><path d=\"M11 38.5a35 35 1 0 0 23 0\" fill=\"none\" stroke-linecap=\"butt\"/><path d=\"M11 29a35 35 1 0 1 23 0M12.5 31.5h20M11.5 34.5a35 35 1 0 0 22 0M10.5 37.5a35 35 1 0 0 24 0\" fill=\"none\" stroke=\"#fff\"/></g><g id=\"black-king\" class=\"black king\" fill=\"none\" fill-rule=\"evenodd\" stroke=\"#000\" stroke-width=\"1.5\" stroke-linecap=\"round\" stroke-linejoin=\"round\"><path d=\"M22.5 11.63V6\" stroke-linejoin=\"miter\"/><path d=\"M22.5 25s4.5-7.5 3-10.5c0 0-1-2.5-3-2.5s-3 2.5-3 2.5c-1.5 3 3 10.5 3 10.5\" fill=\"#000\" stroke-linecap=\"butt\" stroke-linejoin=\"miter\"/><path d=\"M11.5 37c5.5 3.5 15.5 3.5 21 0v-7s9-4.5 6-10.5c-4-6.5-13.5-3.5-16 4V27v-3.5c-3.5-7.5-13-10.5-16-4-3 6 5 10 5 10V37z\" fill=\"#000\"/><path d=\"M20 8h5\" stroke-linejoin=\"miter\"/><path d=\"M32 29.5s8.5-4 6.03-9.65C34.15 14 25 18 22.5 24.5l.01 2.1-.01-2.1C20 18 9.906 14 6.997 19.85c-2.497 5.65 4.853 9 4.853 9M11.5 30c5.5-3 15.5-3 21 0m-21 3.5c5.5-3 15.5-3 21 0m-21 3.5c5.5-3 15.5-3 21 0\" stroke=\"#fff\"/></g></defs><rect x=\"0\" y=\"0\" width=\"390\" height=\"390\" fill=\"#212121\"/><g transform=\"translate(20, 0) scale(0.75, 0.75)\" fill=\"#e5e5e5\" stroke=\"#e5e5e5\"><path d=\"M23.328 10.016q-1.742 0-2.414.398-.672.398-.672 1.36 0 .765.5 1.218.508.445 1.375.445 1.196 0 1.914-.843.727-.852.727-2.258v-.32zm2.867-.594v4.992h-1.437v-1.328q-.492.797-1.227 1.18-.734.375-1.797.375-1.343 0-2.14-.75-.79-.758-.79-2.024 0-1.476.985-2.226.992-.75 2.953-.75h2.016V8.75q0-.992-.656-1.531-.649-.547-1.829-.547-.75 0-1.46.18-.711.18-1.368.539V6.062q.79-.304 1.532-.453.742-.156 1.445-.156 1.898 0 2.836.984.937.985.937 2.985z\"/></g><g transform=\"translate(20, 375) scale(0.75, 0.75)\" fill=\"#e5e5e5\" stroke=\"#e5e5e5\"><path d=\"M23.328 10.016q-1.742 0-2.414.398-.672.398-.672 1.36 0 .765.5 1.218.508.445 1.375.445 1.196 0 1.914-.843.727-.852.727-2.258v-.32zm2.867-.594v4.992h-1.437v-1.328q-.492.797-1.227 1.18-.734.375-1.797.375-1.343 0-2.14-.75-.79-.758-.79-2.024 0-1.476.985-2.226.992-.75 2.953-.75h2.016V8.75q0-.992-.656-1.531-.649-.547-1.829-.547-.75 0-1.46.18-.711.18-1.368.539V6.062q.79-.304 1.532-.453.742-.156 1.445-.156 1.898 0 2.836.984.937.985.937 2.985z\"/></g><g transform=\"translate(65, 0) scale(0.75, 0.75)\" fill=\"#e5e5e5\" stroke=\"#e5e5e5\"><path d=\"M24.922 10.047q0-1.586-.656-2.485-.649-.906-1.79-.906-1.14 0-1.796.906-.649.899-.649 2.485 0 1.586.649 2.492.656.898 1.797.898 1.14 0 1.789-.898.656-.906.656-2.492zm-4.89-3.055q.452-.781 1.14-1.156.695-.383 1.656-.383 1.594 0 2.586 1.266 1 1.265 1 3.328 0 2.062-1 3.328-.992 1.266-2.586 1.266-.96 0-1.656-.375-.688-.383-1.14-1.164v1.312h-1.446V2.258h1.445z\"/></g><g transform=\"translate(65, 375) scale(0.75, 0.75)\" fill=\"#e5e5e5\" stroke=\"#e5e5e5\"><path d=\"M24.922 10.047q0-1.586-.656-2.485-.649-.906-1.79-.906-1.14 0-1.796.906-.649.899-.649 2.485 0 1.586.649 2.492.656.898 1.797.898 1.14 0 1.789-.898.656-.906.656-2.492zm-4.89-3.055q.452-.781 1.14-1.156.695-.383 1.656-.383 1.594 0 2.586 1.266 1 1.265 1 3.328 0 2.062-1 3.328-.992 1.266-2.586 1.266-.96 0-1.656-.375-.688-.383-1.14-1.164v1.312h-1.446V2.258h1.445z\"/></g><g transform=\"translate(110, 0) scale(0.75, 0.75)\" fill=\"#e5e5e5\" stroke=\"#e5e5e5\"><path d=\"M25.96 6v1.344q-.608-.336-1.226-.5-.609-.172-1.234-.172-1.398 0-2.172.89-.773.883-.773 2.485 0 1.601.773 2.492.774.883 2.172.883.625 0 1.234-.164.618-.172 1.227-.508v1.328q-.602.281-1.25.422-.64.14-1.367.14-1.977 0-3.14-1.242-1.165-1.242-1.165-3.351 0-2.14 1.172-3.367 1.18-1.227 3.227-1.227.664 0 1.296.14.633.134 1.227.407z\"/></g><g transform=\"translate(110, 375) scale(0.75, 0.75)\" fill=\"#e5e5e5\" stroke=\"#e5e5e5\"><path d=\"M25.96 6v1.344q-.608-.336-1.226-.5-.609-.172-1.234-.172-1.398 0-2.172.89-.773.883-.773 2.485 0 1.601.773 2.492.774.883 2.172.883.625 0 1.234-.164.618-.172 1.227-.508v1.328q-.602.281-1.25.422-.64.14-1.367.14-1.977 0-3.14-1.242-1.165-1.242-1.165-3.351 0-2.14 1.172-3.367 1.18-1.227 3.227-1.227.664 0 1.296.14.633.134 1.227.407z\"/></g><g transform=\"translate(155, 0) scale(0.75, 0.75)\" fill=\"#e5e5e5\" stroke=\"#e5e5e5\"><path d=\"M24.973 6.992V2.258h1.437v12.156h-1.437v-1.312q-.453.78-1.149 1.164-.687.375-1.656.375-1.586 0-2.586-1.266-.992-1.266-.992-3.328 0-2.063.992-3.328 1-1.266 2.586-1.266.969 0 1.656.383.696.375 1.149 1.156zm-4.899 3.055q0 1.586.649 2.492.656.898 1.797.898 1.14 0 1.796-.898.657-.906.657-2.492 0-1.586-.657-2.485-.656-.906-1.796-.906-1.141 0-1.797.906-.649.899-.649 2.485z\"/></g><g transform=\"translate(155, 375) scale(0.75, 0.75)\" fill=\"#e5e5e5\" stroke=\"#e5e5e5\"><path d=\"M24.973 6.992V2.258h1.437v12.156h-1.437v-1.312q-.453.78-1.149 1.164-.687.375-1.656.375-1.586 0-2.586-1.266-.992-1.266-.992-3.328 0-2.063.992-3.328 1-1.266 2.586-1.266.969 0 1.656.383.696.375 1.149 1.156zm-4.899 3.055q0 1.586.649 2.492.656.898 1.797.898 1.14 0 1.796-.898.657-.906.657-2.492 0-1.586-.657-2.485-.656-.906-1.796-.906-1.141 0-1.797.906-.649.899-.649 2.485z\"/></g><g transform=\"translate(200, 0) scale(0.75, 0.75)\" fill=\"#e5e5e5\" stroke=\"#e5e5e5\"><path d=\"M26.555 9.68v.703h-6.61q.094 1.484.89 2.265.806.774 2.235.774.828 0 1.602-.203.781-.203 1.547-.61v1.36q-.774.328-1.586.5-.813.172-1.649.172-2.093 0-3.32-1.22-1.219-1.218-1.219-3.296 0-2.148 1.157-3.406 1.164-1.266 3.132-1.266 1.766 0 2.79 1.14 1.03 1.134 1.03 3.087zm-1.438-.422q-.015-1.18-.664-1.883-.64-.703-1.703-.703-1.203 0-1.93.68-.718.68-.828 1.914z\"/></g><g transform=\"translate(200, 375) scale(0.75, 0.75)\" fill=\"#e5e5e5\" stroke=\"#e5e5e5\"><path d=\"M26.555 9.68v.703h-6.61q.094 1.484.89 2.265.806.774 2.235.774.828 0 1.602-.203.781-.203 1.547-.61v1.36q-.774.328-1.586.5-.813.172-1.649.172-2.093 0-3.32-1.22-1.219-1.218-1.219-3.296 0-2.148 1.157-3.406 1.164-1.266 3.132-1.266 1.766 0 2.79 1.14 1.03 1.134 1.03 3.087zm-1.438-.422q-.015-1.18-.664-1.883-.64-.703-1.703-.703-1.203 0-1.93.68-.718.68-.828 1.914z\"/></g><g transform=\"translate(245, 0) scale(0.75, 0.75)\" fill=\"#e5e5e5\" stroke=\"#e5e5e5\"><path d=\"M25.285 2.258v1.195H23.91q-.773 0-1.078.313-.297.312-.297 1.125v.773h2.367v1.117h-2.367v7.633H21.09V6.781h-1.375V5.664h1.375v-.61q0-1.46.68-2.124.68-.672 2.156-.672z\"/></g><g transform=\"translate(245, 375) scale(0.75, 0.75)\" fill=\"#e5e5e5\" stroke=\"#e5e5e5\"><path d=\"M25.285 2.258v1.195H23.91q-.773 0-1.078.313-.297.312-.297 1.125v.773h2.367v1.117h-2.367v7.633H21.09V6.781h-1.375V5.664h1.375v-.61q0-1.46.68-2.124.68-.672 2.156-.672z\"/></g><g transform=\"translate(290, 0) scale(0.75, 0.75)\" fill=\"#e5e5e5\" stroke=\"#e5e5e5\"><path d=\"M24.973 9.937q0-1.562-.649-2.421-.64-.86-1.804-.86-1.157 0-1.805.86-.64.859-.64 2.421 0 1.555.64 2.415.648.859 1.805.859 1.164 0 1.804-.86.649-.859.649-2.414zm1.437 3.391q0 2.234-.992 3.32-.992 1.094-3.04 1.094-.757 0-1.429-.117-.672-.11-1.304-.344v-1.398q.632.344 1.25.508.617.164 1.257.164 1.414 0 2.118-.743.703-.734.703-2.226v-.711q-.446.773-1.141 1.156-.695.383-1.664.383-1.61 0-2.594-1.227-.984-1.226-.984-3.25 0-2.03.984-3.257.985-1.227 2.594-1.227.969 0 1.664.383t1.14 1.156V5.664h1.438z\"/></g><g transform=\"translate(290, 375) scale(0.75, 0.75)\" fill=\"#e5e5e5\" stroke=\"#e5e5e5\"><path d=\"M24.973 9.937q0-1.562-.649-2.421-.64-.86-1.804-.86-1.157 0-1.805.86-.64.859-.64 2.421 0 1.555.64 2.415.648.859 1.805.859 1.164 0 1.804-.86.649-.859.649-2.414zm1.437 3.391q0 2.234-.992 3.32-.992 1.094-3.04 1.094-.757 0-1.429-.117-.672-.11-1.304-.344v-1.398q.632.344 1.25.508.617.164 1.257.164 1.414 0 2.118-.743.703-.734.703-2.226v-.711q-.446.773-1.141 1.156-.695.383-1.664.383-1.61 0-2.594-1.227-.984-1.226-.984-3.25 0-2.03.984-3.257.985-1.227 2.594-1.227.969 0 1.664.383t1.14 1.156V5.664h1.438z\"/></g><g transform=\"translate(335, 0) scale(0.75, 0.75)\" fill=\"#e5e5e5\" stroke=\"#e5e5e5\"><path d=\"M26.164 9.133v5.281h-1.437V9.18q0-1.243-.485-1.86-.484-.617-1.453-.617-1.164 0-1.836.742-.672.742-.672 2.024v4.945h-1.445V2.258h1.445v4.765q.516-.789 1.211-1.18.703-.39 1.617-.39 1.508 0 2.282.938.773.93.773 2.742z\"/></g><g transform=\"translate(335, 375) scale(0.75, 0.75)\" fill=\"#e5e5e5\" stroke=\"#e5e5e5\"><path d=\"M26.164 9.133v5.281h-1.437V9.18q0-1.243-.485-1.86-.484-.617-1.453-.617-1.164 0-1.836.742-.672.742-.672 2.024v4.945h-1.445V2.258h1.445v4.765q.516-.789 1.211-1.18.703-.39 1.617-.39 1.508 0 2.282.938.773.93.773 2.742z\"/></g><g transform=\"translate(0, 335) scale(0.75, 0.75)\" fill=\"#e5e5e5\" stroke=\"#e5e5e5\"><path d=\"M6.754 26.996h2.578v-8.898l-2.805.562v-1.437l2.79-.563h1.578v10.336h2.578v1.328h-6.72z\"/></g><g transform=\"translate(375, 335) scale(0.75, 0.75)\" fill=\"#e5e5e5\" stroke=\"#e5e5e5\"><path d=\"M6.754 26.996h2.578v-8.898l-2.805.562v-1.437l2.79-.563h1.578v10.336h2.578v1.328h-6.72z\"/></g><g transform=\"translate(0, 290) scale(0.75, 0.75)\" fill=\"#e5e5e5\" stroke=\"#e5e5e5\"><path d=\"M8.195 26.996h5.508v1.328H6.297v-1.328q.898-.93 2.445-2.492 1.555-1.57 1.953-2.024.758-.851 1.055-1.437.305-.594.305-1.164 0-.93-.657-1.516-.648-.586-1.695-.586-.742 0-1.57.258-.82.258-1.758.781v-1.593q.953-.383 1.781-.578.828-.196 1.516-.196 1.812 0 2.89.906 1.079.907 1.079 2.422 0 .72-.274 1.368-.265.64-.976 1.515-.196.227-1.243 1.313-1.046 1.078-2.953 3.023z\"/></g><g transform=\"translate(375, 290) scale(0.75, 0.75)\" fill=\"#e5e5e5\" stroke=\"#e5e5e5\"><path d=\"M8.195 26.996h5.508v1.328H6.297v-1.328q.898-.93 2.445-2.492 1.555-1.57 1.953-2.024.758-.851 1.055-1.437.305-.594.305-1.164 0-.93-.657-1.516-.648-.586-1.695-.586-.742 0-1.57.258-.82.258-1.758.781v-1.593q.953-.383 1.781-.578.828-.196 1.516-.196 1.812 0 2.89.906 1.079.907 1.079 2.422 0 .72-.274 1.368-.265.64-.976 1.515-.196.227-1.243 1.313-1.046 1.078-2.953 3.023z\"/></g><g transform=\"translate(0, 245) scale(0.75, 0.75)\" fill=\"#e5e5e5\" stroke=\"#e5e5e5\"><path d=\"M11.434 22.035q1.132.242 1.765 1.008.64.766.64 1.89 0 1.727-1.187 2.672-1.187.946-3.375.946-.734 0-1.515-.149-.774-.14-1.602-.43V26.45q.656.383 1.438.578.78.196 1.632.196 1.485 0 2.258-.586.782-.586.782-1.703 0-1.032-.727-1.61-.719-.586-2.008-.586h-1.36v-1.297h1.423q1.164 0 1.78-.46.618-.47.618-1.344 0-.899-.64-1.375-.633-.485-1.82-.485-.65 0-1.391.141-.743.14-1.633.437V16.95q.898-.25 1.68-.375.788-.125 1.484-.125 1.797 0 2.844.82 1.046.813 1.046 2.204 0 .968-.554 1.64-.555.664-1.578.922z\"/></g><g transform=\"translate(375, 245) scale(0.75, 0.75)\" fill=\"#e5e5e5\" stroke=\"#e5e5e5\"><path d=\"M11.434 22.035q1.132.242 1.765 1.008.64.766.64 1.89 0 1.727-1.187 2.672-1.187.946-3.375.946-.734 0-1.515-.149-.774-.14-1.602-.43V26.45q.656.383 1.438.578.78.196 1.632.196 1.485 0 2.258-.586.782-.586.782-1.703 0-1.032-.727-1.61-.719-.586-2.008-.586h-1.36v-1.297h1.423q1.164 0 1.78-.46.618-.47.618-1.344 0-.899-.64-1.375-.633-.485-1.82-.485-.65 0-1.391.141-.743.14-1.633.437V16.95q.898-.25 1.68-.375.788-.125 1.484-.125 1.797 0 2.844.82 1.046.813 1.046 2.204 0 .968-.554 1.64-.555.664-1.578.922z\"/></g><g transform=\"translate(0, 200) scale(0.75, 0.75)\" fill=\"#e5e5e5\" stroke=\"#e5e5e5\"><path d=\"M11.016 18.035L7.03 24.262h3.985zm-.414-1.375h1.984v7.602h1.664v1.312h-1.664v2.75h-1.57v-2.75H5.75v-1.523z\"/></g><g transform=\"translate(375, 200) scale(0.75, 0.75)\" fill=\"#e5e5e5\" stroke=\"#e5e5e5\"><path d=\"M11.016 18.035L7.03 24.262h3.985zm-.414-1.375h1.984v7.602h1.664v1.312h-1.664v2.75h-1.57v-2.75H5.75v-1.523z\"/></g><g transform=\"translate(0, 155) scale(0.75, 0.75)\" fill=\"#e5e5e5\" stroke=\"#e5e5e5\"><path d=\"M6.719 16.66h6.195v1.328h-4.75v2.86q.344-.118.688-.172.343-.063.687-.063 1.953 0 3.094 1.07 1.14 1.07 1.14 2.899 0 1.883-1.171 2.93-1.172 1.039-3.305 1.039-.735 0-1.5-.125-.758-.125-1.57-.375v-1.586q.703.383 1.453.57.75.188 1.586.188 1.351 0 2.14-.711.79-.711.79-1.93 0-1.219-.79-1.93-.789-.71-2.14-.71-.633 0-1.266.14-.625.14-1.281.438z\"/></g><g transform=\"translate(375, 155) scale(0.75, 0.75)\" fill=\"#e5e5e5\" stroke=\"#e5e5e5\"><path d=\"M6.719 16.66h6.195v1.328h-4.75v2.86q.344-.118.688-.172.343-.063.687-.063 1.953 0 3.094 1.07 1.14 1.07 1.14 2.899 0 1.883-1.171 2.93-1.172 1.039-3.305 1.039-.735 0-1.5-.125-.758-.125-1.57-.375v-1.586q.703.383 1.453.57.75.188 1.586.188 1.351 0 2.14-.711.79-.711.79-1.93 0-1.219-.79-1.93-.789-.71-2.14-.71-.633 0-1.266.14-.625.14-1.281.438z\"/></g><g transform=\"translate(0, 110) scale(0.75, 0.75)\" fill=\"#e5e5e5\" stroke=\"#e5e5e5\"><path d=\"M10.137 21.863q-1.063 0-1.688.727-.617.726-.617 1.992 0 1.258.617 1.992.625.727 1.688.727 1.062 0 1.68-.727.624-.734.624-1.992 0-1.266-.625-1.992-.617-.727-1.68-.727zm3.133-4.945v1.437q-.594-.28-1.204-.43-.601-.148-1.195-.148-1.562 0-2.39 1.055-.82 1.055-.938 3.188.46-.68 1.156-1.04.696-.367 1.531-.367 1.758 0 2.774 1.07 1.023 1.063 1.023 2.899 0 1.797-1.062 2.883-1.063 1.086-2.828 1.086-2.024 0-3.094-1.547-1.07-1.555-1.07-4.5 0-2.766 1.312-4.406 1.313-1.649 3.524-1.649.593 0 1.195.117.61.118 1.266.352z\"/></g><g transform=\"translate(375, 110) scale(0.75, 0.75)\" fill=\"#e5e5e5\" stroke=\"#e5e5e5\"><path d=\"M10.137 21.863q-1.063 0-1.688.727-.617.726-.617 1.992 0 1.258.617 1.992.625.727 1.688.727 1.062 0 1.68-.727.624-.734.624-1.992 0-1.266-.625-1.992-.617-.727-1.68-.727zm3.133-4.945v1.437q-.594-.28-1.204-.43-.601-.148-1.195-.148-1.562 0-2.39 1.055-.82 1.055-.938 3.188.46-.68 1.156-1.04.696-.367 1.531-.367 1.758 0 2.774 1.07 1.023 1.063 1.023 2.899 0 1.797-1.062 2.883-1.063 1.086-2.828 1.086-2.024 0-3.094-1.547-1.07-1.555-1.07-4.5 0-2.766 1.312-4.406 1.313-1.649 3.524-1.649.593 0 1.195.117.61.118 1.266.352z\"/></g><g transform=\"translate(0, 65) scale(0.75, 0.75)\" fill=\"#e5e5e5\" stroke=\"#e5e5e5\"><path d=\"M6.25 16.66h7.5v.672L9.516 28.324H7.867l3.985-10.336H6.25z\"/></g><g transform=\"translate(375, 65) scale(0.75, 0.75)\" fill=\"#e5e5e5\" stroke=\"#e5e5e5\"><path d=\"M6.25 16.66h7.5v.672L9.516 28.324H7.867l3.985-10.336H6.25z\"/></g><g transform=\"translate(0, 20) scale(0.75, 0.75)\" fill=\"#e5e5e5\" stroke=\"#e5e5e5\"><path d=\"M10 22.785q-1.125 0-1.773.602-.641.601-.641 1.656t.64 1.656q.649.602 1.774.602t1.773-.602q.649-.61.649-1.656 0-1.055-.649-1.656-.64-.602-1.773-.602zm-1.578-.672q-1.016-.25-1.586-.945-.563-.695-.563-1.695 0-1.399.993-2.211 1-.813 2.734-.813 1.742 0 2.734.813.993.812.993 2.21 0 1-.57 1.696-.563.695-1.571.945 1.14.266 1.773 1.04.641.773.641 1.89 0 1.695-1.04 2.602-1.03.906-2.96.906t-2.969-.906Q6 26.738 6 25.043q0-1.117.64-1.89.641-.774 1.782-1.04zm-.578-2.492q0 .906.562 1.414.57.508 1.594.508 1.016 0 1.586-.508.578-.508.578-1.414 0-.906-.578-1.414-.57-.508-1.586-.508-1.023 0-1.594.508-.562.508-.562 1.414z\"/></g><g transform=\"translate(375, 20) scale(0.75, 0.75)\" fill=\"#e5e5e5\" stroke=\"#e5e5e5\"><path d=\"M10 22.785q-1.125 0-1.773.602-.641.601-.641 1.656t.64 1.656q.649.602 1.774.602t1.773-.602q.649-.61.649-1.656 0-1.055-.649-1.656-.64-.602-1.773-.602zm-1.578-.672q-1.016-.25-1.586-.945-.563-.695-.563-1.695 0-1.399.993-2.211 1-.813 2.734-.813 1.742 0 2.734.813.993.812.993 2.21 0 1-.57 1.696-.563.695-1.571.945 1.14.266 1.773 1.04.641.773.641 1.89 0 1.695-1.04 2.602-1.03.906-2.96.906t-2.969-.906Q6 26.738 6 25.043q0-1.117.64-1.89.641-.774 1.782-1.04zm-.578-2.492q0 .906.562 1.414.57.508 1.594.508 1.016 0 1.586-.508.578-.508.578-1.414 0-.906-.578-1.414-.57-.508-1.586-.508-1.023 0-1.594.508-.562.508-.562 1.414z\"/></g><rect x=\"15\" y=\"330\" width=\"45\" height=\"45\" class=\"square dark a1\" stroke=\"none\" fill=\"#d18b47\"/><rect x=\"60\" y=\"330\" width=\"45\" height=\"45\" class=\"square light b1\" stroke=\"none\" fill=\"#ffce9e\"/><rect x=\"105\" y=\"330\" width=\"45\" height=\"45\" class=\"square dark c1\" stroke=\"none\" fill=\"#d18b47\"/><rect x=\"150\" y=\"330\" width=\"45\" height=\"45\" class=\"square light d1\" stroke=\"none\" fill=\"#ffce9e\"/><rect x=\"195\" y=\"330\" width=\"45\" height=\"45\" class=\"square dark e1\" stroke=\"none\" fill=\"#d18b47\"/><rect x=\"240\" y=\"330\" width=\"45\" height=\"45\" class=\"square light f1\" stroke=\"none\" fill=\"#ffce9e\"/><rect x=\"285\" y=\"330\" width=\"45\" height=\"45\" class=\"square dark g1\" stroke=\"none\" fill=\"#d18b47\"/><rect x=\"330\" y=\"330\" width=\"45\" height=\"45\" class=\"square light h1\" stroke=\"none\" fill=\"#ffce9e\"/><rect x=\"15\" y=\"285\" width=\"45\" height=\"45\" class=\"square light a2\" stroke=\"none\" fill=\"#ffce9e\"/><rect x=\"60\" y=\"285\" width=\"45\" height=\"45\" class=\"square dark b2\" stroke=\"none\" fill=\"#d18b47\"/><rect x=\"105\" y=\"285\" width=\"45\" height=\"45\" class=\"square light c2\" stroke=\"none\" fill=\"#ffce9e\"/><rect x=\"150\" y=\"285\" width=\"45\" height=\"45\" class=\"square dark d2\" stroke=\"none\" fill=\"#d18b47\"/><rect x=\"195\" y=\"285\" width=\"45\" height=\"45\" class=\"square light e2\" stroke=\"none\" fill=\"#ffce9e\"/><rect x=\"240\" y=\"285\" width=\"45\" height=\"45\" class=\"square dark f2\" stroke=\"none\" fill=\"#d18b47\"/><rect x=\"285\" y=\"285\" width=\"45\" height=\"45\" class=\"square light g2\" stroke=\"none\" fill=\"#ffce9e\"/><rect x=\"330\" y=\"285\" width=\"45\" height=\"45\" class=\"square dark h2\" stroke=\"none\" fill=\"#d18b47\"/><rect x=\"15\" y=\"240\" width=\"45\" height=\"45\" class=\"square dark a3\" stroke=\"none\" fill=\"#d18b47\"/><rect x=\"60\" y=\"240\" width=\"45\" height=\"45\" class=\"square light b3\" stroke=\"none\" fill=\"#ffce9e\"/><rect x=\"105\" y=\"240\" width=\"45\" height=\"45\" class=\"square dark c3\" stroke=\"none\" fill=\"#d18b47\"/><rect x=\"150\" y=\"240\" width=\"45\" height=\"45\" class=\"square light d3\" stroke=\"none\" fill=\"#ffce9e\"/><rect x=\"195\" y=\"240\" width=\"45\" height=\"45\" class=\"square dark e3\" stroke=\"none\" fill=\"#d18b47\"/><rect x=\"240\" y=\"240\" width=\"45\" height=\"45\" class=\"square light f3\" stroke=\"none\" fill=\"#ffce9e\"/><rect x=\"285\" y=\"240\" width=\"45\" height=\"45\" class=\"square dark g3\" stroke=\"none\" fill=\"#d18b47\"/><rect x=\"330\" y=\"240\" width=\"45\" height=\"45\" class=\"square light h3\" stroke=\"none\" fill=\"#ffce9e\"/><rect x=\"15\" y=\"195\" width=\"45\" height=\"45\" class=\"square light a4\" stroke=\"none\" fill=\"#ffce9e\"/><rect x=\"60\" y=\"195\" width=\"45\" height=\"45\" class=\"square dark b4\" stroke=\"none\" fill=\"#d18b47\"/><rect x=\"105\" y=\"195\" width=\"45\" height=\"45\" class=\"square light c4\" stroke=\"none\" fill=\"#ffce9e\"/><rect x=\"150\" y=\"195\" width=\"45\" height=\"45\" class=\"square dark d4\" stroke=\"none\" fill=\"#d18b47\"/><rect x=\"195\" y=\"195\" width=\"45\" height=\"45\" class=\"square light e4\" stroke=\"none\" fill=\"#ffce9e\"/><rect x=\"240\" y=\"195\" width=\"45\" height=\"45\" class=\"square dark f4\" stroke=\"none\" fill=\"#d18b47\"/><rect x=\"285\" y=\"195\" width=\"45\" height=\"45\" class=\"square light g4\" stroke=\"none\" fill=\"#ffce9e\"/><rect x=\"330\" y=\"195\" width=\"45\" height=\"45\" class=\"square dark h4\" stroke=\"none\" fill=\"#d18b47\"/><rect x=\"15\" y=\"150\" width=\"45\" height=\"45\" class=\"square dark a5\" stroke=\"none\" fill=\"#d18b47\"/><rect x=\"60\" y=\"150\" width=\"45\" height=\"45\" class=\"square light b5\" stroke=\"none\" fill=\"#ffce9e\"/><rect x=\"105\" y=\"150\" width=\"45\" height=\"45\" class=\"square dark c5\" stroke=\"none\" fill=\"#d18b47\"/><rect x=\"150\" y=\"150\" width=\"45\" height=\"45\" class=\"square light d5\" stroke=\"none\" fill=\"#ffce9e\"/><rect x=\"195\" y=\"150\" width=\"45\" height=\"45\" class=\"square dark e5\" stroke=\"none\" fill=\"#d18b47\"/><rect x=\"240\" y=\"150\" width=\"45\" height=\"45\" class=\"square light f5\" stroke=\"none\" fill=\"#ffce9e\"/><rect x=\"285\" y=\"150\" width=\"45\" height=\"45\" class=\"square dark g5\" stroke=\"none\" fill=\"#d18b47\"/><rect x=\"330\" y=\"150\" width=\"45\" height=\"45\" class=\"square light h5\" stroke=\"none\" fill=\"#ffce9e\"/><rect x=\"15\" y=\"105\" width=\"45\" height=\"45\" class=\"square light a6\" stroke=\"none\" fill=\"#ffce9e\"/><rect x=\"60\" y=\"105\" width=\"45\" height=\"45\" class=\"square dark b6\" stroke=\"none\" fill=\"#d18b47\"/><rect x=\"105\" y=\"105\" width=\"45\" height=\"45\" class=\"square light c6\" stroke=\"none\" fill=\"#ffce9e\"/><rect x=\"150\" y=\"105\" width=\"45\" height=\"45\" class=\"square dark d6\" stroke=\"none\" fill=\"#d18b47\"/><rect x=\"195\" y=\"105\" width=\"45\" height=\"45\" class=\"square light e6\" stroke=\"none\" fill=\"#ffce9e\"/><rect x=\"240\" y=\"105\" width=\"45\" height=\"45\" class=\"square dark f6\" stroke=\"none\" fill=\"#d18b47\"/><rect x=\"285\" y=\"105\" width=\"45\" height=\"45\" class=\"square light g6\" stroke=\"none\" fill=\"#ffce9e\"/><rect x=\"330\" y=\"105\" width=\"45\" height=\"45\" class=\"square dark h6\" stroke=\"none\" fill=\"#d18b47\"/><rect x=\"15\" y=\"60\" width=\"45\" height=\"45\" class=\"square dark a7\" stroke=\"none\" fill=\"#d18b47\"/><rect x=\"60\" y=\"60\" width=\"45\" height=\"45\" class=\"square light b7\" stroke=\"none\" fill=\"#ffce9e\"/><rect x=\"105\" y=\"60\" width=\"45\" height=\"45\" class=\"square dark c7\" stroke=\"none\" fill=\"#d18b47\"/><rect x=\"150\" y=\"60\" width=\"45\" height=\"45\" class=\"square light d7\" stroke=\"none\" fill=\"#ffce9e\"/><rect x=\"195\" y=\"60\" width=\"45\" height=\"45\" class=\"square dark e7\" stroke=\"none\" fill=\"#d18b47\"/><rect x=\"240\" y=\"60\" width=\"45\" height=\"45\" class=\"square light f7\" stroke=\"none\" fill=\"#ffce9e\"/><rect x=\"285\" y=\"60\" width=\"45\" height=\"45\" class=\"square dark g7\" stroke=\"none\" fill=\"#d18b47\"/><rect x=\"330\" y=\"60\" width=\"45\" height=\"45\" class=\"square light h7\" stroke=\"none\" fill=\"#ffce9e\"/><rect x=\"15\" y=\"15\" width=\"45\" height=\"45\" class=\"square light a8\" stroke=\"none\" fill=\"#ffce9e\"/><rect x=\"60\" y=\"15\" width=\"45\" height=\"45\" class=\"square dark b8\" stroke=\"none\" fill=\"#d18b47\"/><rect x=\"105\" y=\"15\" width=\"45\" height=\"45\" class=\"square light c8\" stroke=\"none\" fill=\"#ffce9e\"/><rect x=\"150\" y=\"15\" width=\"45\" height=\"45\" class=\"square dark d8\" stroke=\"none\" fill=\"#d18b47\"/><rect x=\"195\" y=\"15\" width=\"45\" height=\"45\" class=\"square light e8\" stroke=\"none\" fill=\"#ffce9e\"/><rect x=\"240\" y=\"15\" width=\"45\" height=\"45\" class=\"square dark f8\" stroke=\"none\" fill=\"#d18b47\"/><rect x=\"285\" y=\"15\" width=\"45\" height=\"45\" class=\"square light g8\" stroke=\"none\" fill=\"#ffce9e\"/><rect x=\"330\" y=\"15\" width=\"45\" height=\"45\" class=\"square dark h8\" stroke=\"none\" fill=\"#d18b47\"/><use href=\"#white-rook\" xlink:href=\"#white-rook\" transform=\"translate(15, 330)\"/><use href=\"#white-knight\" xlink:href=\"#white-knight\" transform=\"translate(60, 330)\"/><use href=\"#white-bishop\" xlink:href=\"#white-bishop\" transform=\"translate(105, 330)\"/><use href=\"#white-king\" xlink:href=\"#white-king\" transform=\"translate(195, 330)\"/><use href=\"#white-bishop\" xlink:href=\"#white-bishop\" transform=\"translate(240, 330)\"/><use href=\"#white-knight\" xlink:href=\"#white-knight\" transform=\"translate(285, 330)\"/><use href=\"#white-rook\" xlink:href=\"#white-rook\" transform=\"translate(330, 330)\"/><use href=\"#white-pawn\" xlink:href=\"#white-pawn\" transform=\"translate(15, 285)\"/><use href=\"#white-pawn\" xlink:href=\"#white-pawn\" transform=\"translate(60, 285)\"/><use href=\"#white-pawn\" xlink:href=\"#white-pawn\" transform=\"translate(105, 285)\"/><use href=\"#white-pawn\" xlink:href=\"#white-pawn\" transform=\"translate(150, 285)\"/><use href=\"#white-pawn\" xlink:href=\"#white-pawn\" transform=\"translate(240, 285)\"/><use href=\"#white-pawn\" xlink:href=\"#white-pawn\" transform=\"translate(285, 285)\"/><use href=\"#white-pawn\" xlink:href=\"#white-pawn\" transform=\"translate(330, 285)\"/><use href=\"#black-pawn\" xlink:href=\"#black-pawn\" transform=\"translate(15, 150)\"/><use href=\"#black-pawn\" xlink:href=\"#black-pawn\" transform=\"translate(60, 150)\"/><use href=\"#black-pawn\" xlink:href=\"#black-pawn\" transform=\"translate(105, 150)\"/><use href=\"#black-pawn\" xlink:href=\"#black-pawn\" transform=\"translate(195, 150)\"/><use href=\"#black-pawn\" xlink:href=\"#black-pawn\" transform=\"translate(240, 150)\"/><use href=\"#black-knight\" xlink:href=\"#black-knight\" transform=\"translate(150, 60)\"/><use href=\"#black-pawn\" xlink:href=\"#black-pawn\" transform=\"translate(285, 60)\"/><use href=\"#white-queen\" xlink:href=\"#white-queen\" transform=\"translate(330, 60)\"/><use href=\"#black-rook\" xlink:href=\"#black-rook\" transform=\"translate(15, 15)\"/><use href=\"#black-bishop\" xlink:href=\"#black-bishop\" transform=\"translate(105, 15)\"/><use href=\"#black-queen\" xlink:href=\"#black-queen\" transform=\"translate(150, 15)\"/><use href=\"#black-king\" xlink:href=\"#black-king\" transform=\"translate(195, 15)\"/><use href=\"#black-bishop\" xlink:href=\"#black-bishop\" transform=\"translate(240, 15)\"/><use href=\"#black-knight\" xlink:href=\"#black-knight\" transform=\"translate(285, 15)\"/><use href=\"#black-rook\" xlink:href=\"#black-rook\" transform=\"translate(330, 15)\"/></svg>"
      ],
      "text/plain": [
       "<IPython.core.display.SVG object>"
      ]
     },
     "metadata": {},
     "output_type": "display_data"
    },
    {
     "name": "stdout",
     "output_type": "stream",
     "text": [
      "White's turn!\n"
     ]
    },
    {
     "ename": "KeyboardInterrupt",
     "evalue": "Interrupted by user",
     "output_type": "error",
     "traceback": [
      "\u001B[1;31m---------------------------------------------------------------------------\u001B[0m",
      "\u001B[1;31mKeyboardInterrupt\u001B[0m                         Traceback (most recent call last)",
      "Cell \u001B[1;32mIn[10], line 1\u001B[0m\n\u001B[1;32m----> 1\u001B[0m \u001B[43mplay_chess\u001B[49m\u001B[43m(\u001B[49m\u001B[38;5;124;43m\"\u001B[39;49m\u001B[38;5;124;43mmodels/model_epoch_6.pth\u001B[39;49m\u001B[38;5;124;43m\"\u001B[39;49m\u001B[43m)\u001B[49m\n",
      "Cell \u001B[1;32mIn[9], line 18\u001B[0m, in \u001B[0;36mplay_chess\u001B[1;34m(model_path, player_color)\u001B[0m\n\u001B[0;32m     16\u001B[0m     legal_moves[i] \u001B[38;5;241m=\u001B[39m \u001B[38;5;28mstr\u001B[39m(i)\n\u001B[0;32m     17\u001B[0m \u001B[38;5;28mprint\u001B[39m(\u001B[38;5;124m\"\u001B[39m\u001B[38;5;124mWhite\u001B[39m\u001B[38;5;124m'\u001B[39m\u001B[38;5;124ms turn!\u001B[39m\u001B[38;5;124m\"\u001B[39m)\n\u001B[1;32m---> 18\u001B[0m move \u001B[38;5;241m=\u001B[39m \u001B[38;5;28;43minput\u001B[39;49m\u001B[43m(\u001B[49m\u001B[38;5;124;43m\"\u001B[39;49m\u001B[38;5;124;43mPick a move: \u001B[39;49m\u001B[38;5;124;43m\"\u001B[39;49m\u001B[43m)\u001B[49m\n\u001B[0;32m     19\u001B[0m \u001B[38;5;28;01mif\u001B[39;00m move \u001B[38;5;129;01mnot\u001B[39;00m \u001B[38;5;129;01min\u001B[39;00m \u001B[38;5;28mlist\u001B[39m(legal_moves\u001B[38;5;241m.\u001B[39mvalues()):\n\u001B[0;32m     20\u001B[0m     \u001B[38;5;28mprint\u001B[39m(\u001B[38;5;124m\"\u001B[39m\u001B[38;5;124mThat\u001B[39m\u001B[38;5;124m'\u001B[39m\u001B[38;5;124ms not a valid move!\u001B[39m\u001B[38;5;124m\"\u001B[39m)\n",
      "File \u001B[1;32mD:\\Programming\\global_venv\\Lib\\site-packages\\ipykernel\\kernelbase.py:1202\u001B[0m, in \u001B[0;36mKernel.raw_input\u001B[1;34m(self, prompt)\u001B[0m\n\u001B[0;32m   1200\u001B[0m     msg \u001B[38;5;241m=\u001B[39m \u001B[38;5;124m\"\u001B[39m\u001B[38;5;124mraw_input was called, but this frontend does not support input requests.\u001B[39m\u001B[38;5;124m\"\u001B[39m\n\u001B[0;32m   1201\u001B[0m     \u001B[38;5;28;01mraise\u001B[39;00m StdinNotImplementedError(msg)\n\u001B[1;32m-> 1202\u001B[0m \u001B[38;5;28;01mreturn\u001B[39;00m \u001B[38;5;28;43mself\u001B[39;49m\u001B[38;5;241;43m.\u001B[39;49m\u001B[43m_input_request\u001B[49m\u001B[43m(\u001B[49m\n\u001B[0;32m   1203\u001B[0m \u001B[43m    \u001B[49m\u001B[38;5;28;43mstr\u001B[39;49m\u001B[43m(\u001B[49m\u001B[43mprompt\u001B[49m\u001B[43m)\u001B[49m\u001B[43m,\u001B[49m\n\u001B[0;32m   1204\u001B[0m \u001B[43m    \u001B[49m\u001B[38;5;28;43mself\u001B[39;49m\u001B[38;5;241;43m.\u001B[39;49m\u001B[43m_parent_ident\u001B[49m\u001B[43m[\u001B[49m\u001B[38;5;124;43m\"\u001B[39;49m\u001B[38;5;124;43mshell\u001B[39;49m\u001B[38;5;124;43m\"\u001B[39;49m\u001B[43m]\u001B[49m\u001B[43m,\u001B[49m\n\u001B[0;32m   1205\u001B[0m \u001B[43m    \u001B[49m\u001B[38;5;28;43mself\u001B[39;49m\u001B[38;5;241;43m.\u001B[39;49m\u001B[43mget_parent\u001B[49m\u001B[43m(\u001B[49m\u001B[38;5;124;43m\"\u001B[39;49m\u001B[38;5;124;43mshell\u001B[39;49m\u001B[38;5;124;43m\"\u001B[39;49m\u001B[43m)\u001B[49m\u001B[43m,\u001B[49m\n\u001B[0;32m   1206\u001B[0m \u001B[43m    \u001B[49m\u001B[43mpassword\u001B[49m\u001B[38;5;241;43m=\u001B[39;49m\u001B[38;5;28;43;01mFalse\u001B[39;49;00m\u001B[43m,\u001B[49m\n\u001B[0;32m   1207\u001B[0m \u001B[43m\u001B[49m\u001B[43m)\u001B[49m\n",
      "File \u001B[1;32mD:\\Programming\\global_venv\\Lib\\site-packages\\ipykernel\\kernelbase.py:1245\u001B[0m, in \u001B[0;36mKernel._input_request\u001B[1;34m(self, prompt, ident, parent, password)\u001B[0m\n\u001B[0;32m   1242\u001B[0m \u001B[38;5;28;01mexcept\u001B[39;00m \u001B[38;5;167;01mKeyboardInterrupt\u001B[39;00m:\n\u001B[0;32m   1243\u001B[0m     \u001B[38;5;66;03m# re-raise KeyboardInterrupt, to truncate traceback\u001B[39;00m\n\u001B[0;32m   1244\u001B[0m     msg \u001B[38;5;241m=\u001B[39m \u001B[38;5;124m\"\u001B[39m\u001B[38;5;124mInterrupted by user\u001B[39m\u001B[38;5;124m\"\u001B[39m\n\u001B[1;32m-> 1245\u001B[0m     \u001B[38;5;28;01mraise\u001B[39;00m \u001B[38;5;167;01mKeyboardInterrupt\u001B[39;00m(msg) \u001B[38;5;28;01mfrom\u001B[39;00m \u001B[38;5;28;01mNone\u001B[39;00m\n\u001B[0;32m   1246\u001B[0m \u001B[38;5;28;01mexcept\u001B[39;00m \u001B[38;5;167;01mException\u001B[39;00m:\n\u001B[0;32m   1247\u001B[0m     \u001B[38;5;28mself\u001B[39m\u001B[38;5;241m.\u001B[39mlog\u001B[38;5;241m.\u001B[39mwarning(\u001B[38;5;124m\"\u001B[39m\u001B[38;5;124mInvalid Message:\u001B[39m\u001B[38;5;124m\"\u001B[39m, exc_info\u001B[38;5;241m=\u001B[39m\u001B[38;5;28;01mTrue\u001B[39;00m)\n",
      "\u001B[1;31mKeyboardInterrupt\u001B[0m: Interrupted by user"
     ]
    }
   ],
   "source": [
    "play_chess(\"models/model_epoch_6.pth\")"
   ]
  },
  {
   "cell_type": "code",
   "execution_count": null,
   "metadata": {},
   "outputs": [],
   "source": []
  }
 ],
 "metadata": {
  "kernelspec": {
   "display_name": "Python 3 (ipykernel)",
   "language": "python",
   "name": "python3"
  },
  "language_info": {
   "codemirror_mode": {
    "name": "ipython",
    "version": 3
   },
   "file_extension": ".py",
   "mimetype": "text/x-python",
   "name": "python",
   "nbconvert_exporter": "python",
   "pygments_lexer": "ipython3",
   "version": "3.11.4"
  }
 },
 "nbformat": 4,
 "nbformat_minor": 4
}
